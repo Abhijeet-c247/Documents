{
 "cells": [
  {
   "cell_type": "code",
   "execution_count": 1,
   "id": "8887317c",
   "metadata": {},
   "outputs": [
    {
     "name": "stdout",
     "output_type": "stream",
     "text": [
      "The length of the fruit name is: 5\n",
      "The sliced part of the fruit name is: ppl\n",
      "The first character of the fruit name is: A\n",
      "The last character of the fruit name is: e\n",
      "The fruit name in uppercase is: APPLE\n",
      "The fruit name in lowercase is: apple\n",
      "The fruit name with 'A' replaced by 'O' is: Opple\n"
     ]
    }
   ],
   "source": [
    "Fruit = \"Apple\"\n",
    "\n",
    "len = len(Fruit)\n",
    "\n",
    "print(\"The length of the fruit name is:\", len)\n",
    "\n",
    "slice = Fruit[1:4]\n",
    "\n",
    "print(\"The sliced part of the fruit name is:\", slice)\n",
    "\n",
    "print(\"The first character of the fruit name is:\", Fruit[0])\n",
    "\n",
    "print(\"The last character of the fruit name is:\", Fruit[-1])\n",
    "\n",
    "print(\"The fruit name in uppercase is:\", Fruit.upper())\n",
    "\n",
    "print(\"The fruit name in lowercase is:\", Fruit.lower())\n",
    "\n",
    "print(\"The fruit name with 'A' replaced by 'O' is:\", Fruit.replace('A', 'O'))\n",
    "\n"
   ]
  }
 ],
 "metadata": {
  "kernelspec": {
   "display_name": ".venv",
   "language": "python",
   "name": "python3"
  },
  "language_info": {
   "name": "python",
   "version": "3.10.12"
  }
 },
 "nbformat": 4,
 "nbformat_minor": 5
}
