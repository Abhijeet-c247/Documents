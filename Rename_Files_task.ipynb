{
 "cells": [
  {
   "cell_type": "code",
   "execution_count": 17,
   "id": "b2375a8b",
   "metadata": {},
   "outputs": [
    {
     "name": "stdout",
     "output_type": "stream",
     "text": [
      "Renamed File: Renamed 1.txt to Renamed 1.txt\n",
      " All files renamed successfully.\n"
     ]
    }
   ],
   "source": [
    "import os\n",
    "\n",
    "# Use absolute path for folder_path\n",
    "\n",
    "folder_path = \"Task/\"\n",
    "\n",
    "for count, filename in enumerate(os.listdir(folder_path), start=1):\n",
    "    \n",
    "    old_file = os.path.join(folder_path, filename)\n",
    "\n",
    "   \n",
    "    if not os.path.isfile(old_file):\n",
    "        continue\n",
    "\n",
    "    \n",
    "    name, extension = os.path.splitext(filename)\n",
    "\n",
    "   \n",
    "    new_name = f\"Renamed {count}{extension}\"\n",
    "\n",
    "   \n",
    "    new_file = os.path.join(folder_path, new_name)\n",
    "\n",
    "  \n",
    "    os.rename(old_file, new_file)\n",
    "    \n",
    "    print(f\"Renamed File: {filename} to {new_name}\")\n",
    "\n",
    "print(\" All files renamed successfully.\")\n"
   ]
  }
 ],
 "metadata": {
  "kernelspec": {
   "display_name": ".venv",
   "language": "python",
   "name": "python3"
  },
  "language_info": {
   "codemirror_mode": {
    "name": "ipython",
    "version": 3
   },
   "file_extension": ".py",
   "mimetype": "text/x-python",
   "name": "python",
   "nbconvert_exporter": "python",
   "pygments_lexer": "ipython3",
   "version": "3.10.12"
  }
 },
 "nbformat": 4,
 "nbformat_minor": 5
}
